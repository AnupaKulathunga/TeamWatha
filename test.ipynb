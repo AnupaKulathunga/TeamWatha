{
  "nbformat": 4,
  "nbformat_minor": 0,
  "metadata": {
    "language_info": {
      "codemirror_mode": {
        "name": "ipython",
        "version": 3
      },
      "file_extension": ".py",
      "mimetype": "text/x-python",
      "name": "python",
      "nbconvert_exporter": "python",
      "pygments_lexer": "ipython3",
      "version": "3.8.0"
    },
    "orig_nbformat": 4,
    "kernelspec": {
      "name": "python3",
      "display_name": "Python 3.8.0 64-bit ('teamwatha': venv)"
    },
    "interpreter": {
      "hash": "0baa0b6471af756e5688d998cccf7e543fe1d1dc084390a14ae0ffe552e68f88"
    },
    "colab": {
      "name": "test.ipynb",
      "provenance": []
    }
  },
  "cells": [
    {
      "cell_type": "code",
      "metadata": {
        "id": "Mg2NyZiLiToy"
      },
      "source": [
        "import pandas as pd"
      ],
<<<<<<< HEAD
      "execution_count": 1,
=======
      "execution_count": null,
>>>>>>> a85749ce62b35fe268445488bf5d72fc65e1fa86
      "outputs": []
    },
    {
      "cell_type": "code",
      "metadata": {
        "id": "seXXRJHjiTo1"
      },
      "source": [
        "Beijing_NO2 = pd.read_csv('Beijing_2021-06-29_CN01-N1.csv')\n",
        "Dhaka_CO2 = pd.read_csv('Dhaka_2021-06-29_BD01-N2.csv')\n",
        "NewYork_NO2 = pd.read_csv('New York_2021-06-28_US01-N1.csv')\n",
        "NewYork_CO2 = pd.read_csv('New York_2021-06-29_US01-N2.csv')\n",
        "San_Francisco_NO2 = pd.read_csv('San Francisco_2021-06-29_US03-N1.csv')"
      ],
<<<<<<< HEAD
      "execution_count": 2,
=======
      "execution_count": null,
>>>>>>> a85749ce62b35fe268445488bf5d72fc65e1fa86
      "outputs": []
    },
    {
      "cell_type": "code",
      "metadata": {
        "colab": {
          "base_uri": "https://localhost:8080/"
        },
        "id": "bjNxJj02iTo2",
        "outputId": "b8e7cb8a-020c-4c1a-ceee-4b66e1a7db28"
      },
      "source": [
        "Beijing_NO2 = Beijing_NO2.assign(indicatorValue='NO2 Emission Beijing')\n",
        "Dhaka_CO2 = Dhaka_CO2.assign(indicatorValue='CO2 Emission Dhaka')\n",
        "NewYork_NO2 = NewYork_NO2.assign(indicatorValue='NO2 Emission New York')\n",
        "NewYork_CO2 = NewYork_CO2.assign(indicatorValue='CO2 Emission New York')\n",
        "San_Francisco_NO2 = San_Francisco_NO2.assign(indicatorValue='NO2 Emission San Francisco')\n",
        "\n",
        "list_data = [Beijing_NO2, Dhaka_CO2, NewYork_NO2, NewYork_CO2, San_Francisco_NO2]"
      ],
<<<<<<< HEAD
      "execution_count": 3,
      "outputs": []
=======
      "execution_count": null,
      "outputs": [
        {
          "output_type": "stream",
          "text": [
            "[                        time  ...                inputData\n",
            "0   2018-05-07T00:00:00.000Z  ...  Sentinel-5p Level-3 NO2\n",
            "1   2018-05-21T00:00:00.000Z  ...  Sentinel-5p Level-3 NO2\n",
            "2   2018-06-04T00:00:00.000Z  ...  Sentinel-5p Level-3 NO2\n",
            "3   2018-06-18T00:00:00.000Z  ...  Sentinel-5p Level-3 NO2\n",
            "4   2018-07-02T00:00:00.000Z  ...  Sentinel-5p Level-3 NO2\n",
            "..                       ...  ...                      ...\n",
            "76  2021-04-05T00:00:00.000Z  ...  Sentinel-5p Level-3 NO2\n",
            "77  2021-04-19T00:00:00.000Z  ...  Sentinel-5p Level-3 NO2\n",
            "78  2021-05-03T00:00:00.000Z  ...  Sentinel-5p Level-3 NO2\n",
            "79  2021-05-17T00:00:00.000Z  ...  Sentinel-5p Level-3 NO2\n",
            "80  2021-05-31T00:00:00.000Z  ...  Sentinel-5p Level-3 NO2\n",
            "\n",
            "[81 rows x 9 columns],                         time                 aoi  ...  colorCode   inputData\n",
            "0   2016-04-01T00:00:00.000Z  LatLng(23.8, 90.3)  ...       BLUE         NaN\n",
            "1   2017-01-01T00:00:00.000Z  LatLng(23.8, 90.3)  ...       BLUE         NaN\n",
            "2   2017-02-01T00:00:00.000Z  LatLng(23.8, 90.3)  ...       BLUE         NaN\n",
            "3   2017-03-01T00:00:00.000Z  LatLng(23.8, 90.3)  ...       BLUE         NaN\n",
            "4   2017-04-01T00:00:00.000Z  LatLng(23.8, 90.3)  ...       BLUE         NaN\n",
            "5   2018-01-01T00:00:00.000Z  LatLng(23.8, 90.3)  ...       BLUE         NaN\n",
            "6   2018-02-01T00:00:00.000Z  LatLng(23.8, 90.3)  ...       BLUE         NaN\n",
            "7   2018-03-01T00:00:00.000Z  LatLng(23.8, 90.3)  ...       BLUE         NaN\n",
            "8   2018-04-01T00:00:00.000Z  LatLng(23.8, 90.3)  ...       BLUE         NaN\n",
            "9   2019-01-01T00:00:00.000Z  LatLng(23.8, 90.3)  ...       BLUE  GOSAT_XCO2\n",
            "10  2019-02-01T00:00:00.000Z  LatLng(23.8, 90.3)  ...       BLUE  GOSAT_XCO2\n",
            "11  2019-03-01T00:00:00.000Z  LatLng(23.8, 90.3)  ...       BLUE  GOSAT_XCO2\n",
            "12  2019-04-01T00:00:00.000Z  LatLng(23.8, 90.3)  ...       BLUE  GOSAT_XCO2\n",
            "13  2020-01-01T00:00:00.000Z  LatLng(23.8, 90.3)  ...      GREEN  GOSAT_XCO2\n",
            "14  2020-02-01T00:00:00.000Z  LatLng(23.8, 90.3)  ...      GREEN  GOSAT_XCO2\n",
            "15  2020-03-01T00:00:00.000Z  LatLng(23.8, 90.3)  ...      GREEN  GOSAT_XCO2\n",
            "16  2020-04-01T00:00:00.000Z  LatLng(23.8, 90.3)  ...      GREEN  GOSAT_XCO2\n",
            "\n",
            "[17 rows x 9 columns],                         time  ...                inputData\n",
            "0   2018-05-07T00:00:00.000Z  ...  Sentinel-5p Level-3 NO2\n",
            "1   2018-05-21T00:00:00.000Z  ...  Sentinel-5p Level-3 NO2\n",
            "2   2018-06-04T00:00:00.000Z  ...  Sentinel-5p Level-3 NO2\n",
            "3   2018-06-18T00:00:00.000Z  ...  Sentinel-5p Level-3 NO2\n",
            "4   2018-07-02T00:00:00.000Z  ...  Sentinel-5p Level-3 NO2\n",
            "..                       ...  ...                      ...\n",
            "76  2021-04-05T00:00:00.000Z  ...  Sentinel-5p Level-3 NO2\n",
            "77  2021-04-19T00:00:00.000Z  ...  Sentinel-5p Level-3 NO2\n",
            "78  2021-05-03T00:00:00.000Z  ...  Sentinel-5p Level-3 NO2\n",
            "79  2021-05-17T00:00:00.000Z  ...  Sentinel-5p Level-3 NO2\n",
            "80  2021-05-31T00:00:00.000Z  ...  Sentinel-5p Level-3 NO2\n",
            "\n",
            "[81 rows x 9 columns],                         time  ...   inputData\n",
            "0   2016-04-01T00:00:00.000Z  ...         NaN\n",
            "1   2017-01-01T00:00:00.000Z  ...         NaN\n",
            "2   2017-02-01T00:00:00.000Z  ...         NaN\n",
            "3   2017-03-01T00:00:00.000Z  ...         NaN\n",
            "4   2017-04-01T00:00:00.000Z  ...         NaN\n",
            "5   2018-01-01T00:00:00.000Z  ...         NaN\n",
            "6   2018-03-01T00:00:00.000Z  ...         NaN\n",
            "7   2018-04-01T00:00:00.000Z  ...         NaN\n",
            "8   2019-01-01T00:00:00.000Z  ...  GOSAT_XCO2\n",
            "9   2019-02-01T00:00:00.000Z  ...  GOSAT_XCO2\n",
            "10  2019-03-01T00:00:00.000Z  ...  GOSAT_XCO2\n",
            "11  2019-04-01T00:00:00.000Z  ...  GOSAT_XCO2\n",
            "12  2020-01-01T00:00:00.000Z  ...  GOSAT_XCO2\n",
            "13  2020-02-01T00:00:00.000Z  ...  GOSAT_XCO2\n",
            "14  2020-03-01T00:00:00.000Z  ...  GOSAT_XCO2\n",
            "\n",
            "[15 rows x 9 columns]]\n"
          ],
          "name": "stdout"
        }
      ]
>>>>>>> a85749ce62b35fe268445488bf5d72fc65e1fa86
    },
    {
      "cell_type": "code",
      "metadata": {
        "colab": {
          "base_uri": "https://localhost:8080/",
          "height": 1000
        },
        "id": "IeyFqjq4iTo2",
        "outputId": "77afe3c6-4f71-45c3-9d24-5910489918ab"
      },
      "source": [
        "display(Beijing_NO2.head())\n",
        "display(Dhaka_CO2.head())\n",
        "display(NewYork_NO2.head())\n",
        "display(NewYork_CO2.head())\n",
        "display(San_Francisco_NO2.head())"
      ],
<<<<<<< HEAD
      "execution_count": 4,
=======
      "execution_count": null,
>>>>>>> a85749ce62b35fe268445488bf5d72fc65e1fa86
      "outputs": [
        {
          "output_type": "display_data",
          "data": {
            "text/plain": "                       time                   aoi  measurement  \\\n0  2018-05-07T00:00:00.000Z  LatLng(39.9, 116.38)    194.21602   \n1  2018-05-21T00:00:00.000Z  LatLng(39.9, 116.38)    143.73322   \n2  2018-06-04T00:00:00.000Z  LatLng(39.9, 116.38)    133.34633   \n3  2018-06-18T00:00:00.000Z  LatLng(39.9, 116.38)    130.20685   \n4  2018-07-02T00:00:00.000Z  LatLng(39.9, 116.38)    151.91910   \n\n         indicatorValue             referenceTime dataProvider eoSensor  \\\n0  NO2 Emission Beijing  2018-05-07T00:00:00.000Z         EMSS  TROPOMI   \n1  NO2 Emission Beijing  2018-05-21T00:00:00.000Z         EMSS  TROPOMI   \n2  NO2 Emission Beijing  2018-06-04T00:00:00.000Z         EMSS  TROPOMI   \n3  NO2 Emission Beijing  2018-06-18T00:00:00.000Z         EMSS  TROPOMI   \n4  NO2 Emission Beijing  2018-07-02T00:00:00.000Z         EMSS  TROPOMI   \n\n  colorCode                inputData  \n0         /  Sentinel-5p Level-3 NO2  \n1         /  Sentinel-5p Level-3 NO2  \n2         /  Sentinel-5p Level-3 NO2  \n3         /  Sentinel-5p Level-3 NO2  \n4         /  Sentinel-5p Level-3 NO2  ",
            "text/html": "<div>\n<style scoped>\n    .dataframe tbody tr th:only-of-type {\n        vertical-align: middle;\n    }\n\n    .dataframe tbody tr th {\n        vertical-align: top;\n    }\n\n    .dataframe thead th {\n        text-align: right;\n    }\n</style>\n<table border=\"1\" class=\"dataframe\">\n  <thead>\n    <tr style=\"text-align: right;\">\n      <th></th>\n      <th>time</th>\n      <th>aoi</th>\n      <th>measurement</th>\n      <th>indicatorValue</th>\n      <th>referenceTime</th>\n      <th>dataProvider</th>\n      <th>eoSensor</th>\n      <th>colorCode</th>\n      <th>inputData</th>\n    </tr>\n  </thead>\n  <tbody>\n    <tr>\n      <th>0</th>\n      <td>2018-05-07T00:00:00.000Z</td>\n      <td>LatLng(39.9, 116.38)</td>\n      <td>194.21602</td>\n      <td>NO2 Emission Beijing</td>\n      <td>2018-05-07T00:00:00.000Z</td>\n      <td>EMSS</td>\n      <td>TROPOMI</td>\n      <td>/</td>\n      <td>Sentinel-5p Level-3 NO2</td>\n    </tr>\n    <tr>\n      <th>1</th>\n      <td>2018-05-21T00:00:00.000Z</td>\n      <td>LatLng(39.9, 116.38)</td>\n      <td>143.73322</td>\n      <td>NO2 Emission Beijing</td>\n      <td>2018-05-21T00:00:00.000Z</td>\n      <td>EMSS</td>\n      <td>TROPOMI</td>\n      <td>/</td>\n      <td>Sentinel-5p Level-3 NO2</td>\n    </tr>\n    <tr>\n      <th>2</th>\n      <td>2018-06-04T00:00:00.000Z</td>\n      <td>LatLng(39.9, 116.38)</td>\n      <td>133.34633</td>\n      <td>NO2 Emission Beijing</td>\n      <td>2018-06-04T00:00:00.000Z</td>\n      <td>EMSS</td>\n      <td>TROPOMI</td>\n      <td>/</td>\n      <td>Sentinel-5p Level-3 NO2</td>\n    </tr>\n    <tr>\n      <th>3</th>\n      <td>2018-06-18T00:00:00.000Z</td>\n      <td>LatLng(39.9, 116.38)</td>\n      <td>130.20685</td>\n      <td>NO2 Emission Beijing</td>\n      <td>2018-06-18T00:00:00.000Z</td>\n      <td>EMSS</td>\n      <td>TROPOMI</td>\n      <td>/</td>\n      <td>Sentinel-5p Level-3 NO2</td>\n    </tr>\n    <tr>\n      <th>4</th>\n      <td>2018-07-02T00:00:00.000Z</td>\n      <td>LatLng(39.9, 116.38)</td>\n      <td>151.91910</td>\n      <td>NO2 Emission Beijing</td>\n      <td>2018-07-02T00:00:00.000Z</td>\n      <td>EMSS</td>\n      <td>TROPOMI</td>\n      <td>/</td>\n      <td>Sentinel-5p Level-3 NO2</td>\n    </tr>\n  </tbody>\n</table>\n</div>"
          },
          "metadata": {}
        },
        {
          "output_type": "display_data",
          "data": {
            "text/plain": "                       time                 aoi  measurement  \\\n0  2016-04-01T00:00:00.000Z  LatLng(23.8, 90.3)        -2.80   \n1  2017-01-01T00:00:00.000Z  LatLng(23.8, 90.3)         5.94   \n2  2017-02-01T00:00:00.000Z  LatLng(23.8, 90.3)         1.54   \n3  2017-03-01T00:00:00.000Z  LatLng(23.8, 90.3)         3.14   \n4  2017-04-01T00:00:00.000Z  LatLng(23.8, 90.3)         4.87   \n\n       indicatorValue     referenceTime dataProvider eoSensor colorCode  \\\n0  CO2 Emission Dhaka  Invalid DateTime         JAXA    GOSAT      BLUE   \n1  CO2 Emission Dhaka  Invalid DateTime         JAXA    GOSAT      BLUE   \n2  CO2 Emission Dhaka  Invalid DateTime         JAXA    GOSAT      BLUE   \n3  CO2 Emission Dhaka  Invalid DateTime         JAXA    GOSAT      BLUE   \n4  CO2 Emission Dhaka  Invalid DateTime         JAXA    GOSAT      BLUE   \n\n  inputData  \n0       NaN  \n1       NaN  \n2       NaN  \n3       NaN  \n4       NaN  ",
            "text/html": "<div>\n<style scoped>\n    .dataframe tbody tr th:only-of-type {\n        vertical-align: middle;\n    }\n\n    .dataframe tbody tr th {\n        vertical-align: top;\n    }\n\n    .dataframe thead th {\n        text-align: right;\n    }\n</style>\n<table border=\"1\" class=\"dataframe\">\n  <thead>\n    <tr style=\"text-align: right;\">\n      <th></th>\n      <th>time</th>\n      <th>aoi</th>\n      <th>measurement</th>\n      <th>indicatorValue</th>\n      <th>referenceTime</th>\n      <th>dataProvider</th>\n      <th>eoSensor</th>\n      <th>colorCode</th>\n      <th>inputData</th>\n    </tr>\n  </thead>\n  <tbody>\n    <tr>\n      <th>0</th>\n      <td>2016-04-01T00:00:00.000Z</td>\n      <td>LatLng(23.8, 90.3)</td>\n      <td>-2.80</td>\n      <td>CO2 Emission Dhaka</td>\n      <td>Invalid DateTime</td>\n      <td>JAXA</td>\n      <td>GOSAT</td>\n      <td>BLUE</td>\n      <td>NaN</td>\n    </tr>\n    <tr>\n      <th>1</th>\n      <td>2017-01-01T00:00:00.000Z</td>\n      <td>LatLng(23.8, 90.3)</td>\n      <td>5.94</td>\n      <td>CO2 Emission Dhaka</td>\n      <td>Invalid DateTime</td>\n      <td>JAXA</td>\n      <td>GOSAT</td>\n      <td>BLUE</td>\n      <td>NaN</td>\n    </tr>\n    <tr>\n      <th>2</th>\n      <td>2017-02-01T00:00:00.000Z</td>\n      <td>LatLng(23.8, 90.3)</td>\n      <td>1.54</td>\n      <td>CO2 Emission Dhaka</td>\n      <td>Invalid DateTime</td>\n      <td>JAXA</td>\n      <td>GOSAT</td>\n      <td>BLUE</td>\n      <td>NaN</td>\n    </tr>\n    <tr>\n      <th>3</th>\n      <td>2017-03-01T00:00:00.000Z</td>\n      <td>LatLng(23.8, 90.3)</td>\n      <td>3.14</td>\n      <td>CO2 Emission Dhaka</td>\n      <td>Invalid DateTime</td>\n      <td>JAXA</td>\n      <td>GOSAT</td>\n      <td>BLUE</td>\n      <td>NaN</td>\n    </tr>\n    <tr>\n      <th>4</th>\n      <td>2017-04-01T00:00:00.000Z</td>\n      <td>LatLng(23.8, 90.3)</td>\n      <td>4.87</td>\n      <td>CO2 Emission Dhaka</td>\n      <td>Invalid DateTime</td>\n      <td>JAXA</td>\n      <td>GOSAT</td>\n      <td>BLUE</td>\n      <td>NaN</td>\n    </tr>\n  </tbody>\n</table>\n</div>"
          },
          "metadata": {}
        },
        {
          "output_type": "display_data",
          "data": {
            "text/plain": "                       time                           aoi  measurement  \\\n0  2018-05-07T00:00:00.000Z  LatLng(40.71268, -74.005812)   155.086430   \n1  2018-05-21T00:00:00.000Z  LatLng(40.71268, -74.005812)   110.780000   \n2  2018-06-04T00:00:00.000Z  LatLng(40.71268, -74.005812)    95.689964   \n3  2018-06-18T00:00:00.000Z  LatLng(40.71268, -74.005812)    89.165760   \n4  2018-07-02T00:00:00.000Z  LatLng(40.71268, -74.005812)    98.917145   \n\n          indicatorValue             referenceTime dataProvider eoSensor  \\\n0  NO2 Emission New York  2018-05-07T00:00:00.000Z         EMSS  TROPOMI   \n1  NO2 Emission New York  2018-05-21T00:00:00.000Z         EMSS  TROPOMI   \n2  NO2 Emission New York  2018-06-04T00:00:00.000Z         EMSS  TROPOMI   \n3  NO2 Emission New York  2018-06-18T00:00:00.000Z         EMSS  TROPOMI   \n4  NO2 Emission New York  2018-07-02T00:00:00.000Z         EMSS  TROPOMI   \n\n  colorCode                inputData  \n0         /  Sentinel-5p Level-3 NO2  \n1         /  Sentinel-5p Level-3 NO2  \n2         /  Sentinel-5p Level-3 NO2  \n3         /  Sentinel-5p Level-3 NO2  \n4         /  Sentinel-5p Level-3 NO2  ",
            "text/html": "<div>\n<style scoped>\n    .dataframe tbody tr th:only-of-type {\n        vertical-align: middle;\n    }\n\n    .dataframe tbody tr th {\n        vertical-align: top;\n    }\n\n    .dataframe thead th {\n        text-align: right;\n    }\n</style>\n<table border=\"1\" class=\"dataframe\">\n  <thead>\n    <tr style=\"text-align: right;\">\n      <th></th>\n      <th>time</th>\n      <th>aoi</th>\n      <th>measurement</th>\n      <th>indicatorValue</th>\n      <th>referenceTime</th>\n      <th>dataProvider</th>\n      <th>eoSensor</th>\n      <th>colorCode</th>\n      <th>inputData</th>\n    </tr>\n  </thead>\n  <tbody>\n    <tr>\n      <th>0</th>\n      <td>2018-05-07T00:00:00.000Z</td>\n      <td>LatLng(40.71268, -74.005812)</td>\n      <td>155.086430</td>\n      <td>NO2 Emission New York</td>\n      <td>2018-05-07T00:00:00.000Z</td>\n      <td>EMSS</td>\n      <td>TROPOMI</td>\n      <td>/</td>\n      <td>Sentinel-5p Level-3 NO2</td>\n    </tr>\n    <tr>\n      <th>1</th>\n      <td>2018-05-21T00:00:00.000Z</td>\n      <td>LatLng(40.71268, -74.005812)</td>\n      <td>110.780000</td>\n      <td>NO2 Emission New York</td>\n      <td>2018-05-21T00:00:00.000Z</td>\n      <td>EMSS</td>\n      <td>TROPOMI</td>\n      <td>/</td>\n      <td>Sentinel-5p Level-3 NO2</td>\n    </tr>\n    <tr>\n      <th>2</th>\n      <td>2018-06-04T00:00:00.000Z</td>\n      <td>LatLng(40.71268, -74.005812)</td>\n      <td>95.689964</td>\n      <td>NO2 Emission New York</td>\n      <td>2018-06-04T00:00:00.000Z</td>\n      <td>EMSS</td>\n      <td>TROPOMI</td>\n      <td>/</td>\n      <td>Sentinel-5p Level-3 NO2</td>\n    </tr>\n    <tr>\n      <th>3</th>\n      <td>2018-06-18T00:00:00.000Z</td>\n      <td>LatLng(40.71268, -74.005812)</td>\n      <td>89.165760</td>\n      <td>NO2 Emission New York</td>\n      <td>2018-06-18T00:00:00.000Z</td>\n      <td>EMSS</td>\n      <td>TROPOMI</td>\n      <td>/</td>\n      <td>Sentinel-5p Level-3 NO2</td>\n    </tr>\n    <tr>\n      <th>4</th>\n      <td>2018-07-02T00:00:00.000Z</td>\n      <td>LatLng(40.71268, -74.005812)</td>\n      <td>98.917145</td>\n      <td>NO2 Emission New York</td>\n      <td>2018-07-02T00:00:00.000Z</td>\n      <td>EMSS</td>\n      <td>TROPOMI</td>\n      <td>/</td>\n      <td>Sentinel-5p Level-3 NO2</td>\n    </tr>\n  </tbody>\n</table>\n</div>"
          },
          "metadata": {}
        },
        {
          "output_type": "display_data",
          "data": {
            "text/plain": "                       time                           aoi  measurement  \\\n0  2016-04-01T00:00:00.000Z  LatLng(40.71268, -74.005812)         5.05   \n1  2017-01-01T00:00:00.000Z  LatLng(40.71268, -74.005812)         5.60   \n2  2017-02-01T00:00:00.000Z  LatLng(40.71268, -74.005812)         6.16   \n3  2017-03-01T00:00:00.000Z  LatLng(40.71268, -74.005812)         8.79   \n4  2017-04-01T00:00:00.000Z  LatLng(40.71268, -74.005812)         3.18   \n\n          indicatorValue     referenceTime dataProvider eoSensor colorCode  \\\n0  CO2 Emission New York  Invalid DateTime         JAXA    GOSAT      BLUE   \n1  CO2 Emission New York  Invalid DateTime         JAXA    GOSAT      BLUE   \n2  CO2 Emission New York  Invalid DateTime         JAXA    GOSAT      BLUE   \n3  CO2 Emission New York  Invalid DateTime         JAXA    GOSAT      BLUE   \n4  CO2 Emission New York  Invalid DateTime         JAXA    GOSAT      BLUE   \n\n  inputData  \n0       NaN  \n1       NaN  \n2       NaN  \n3       NaN  \n4       NaN  ",
            "text/html": "<div>\n<style scoped>\n    .dataframe tbody tr th:only-of-type {\n        vertical-align: middle;\n    }\n\n    .dataframe tbody tr th {\n        vertical-align: top;\n    }\n\n    .dataframe thead th {\n        text-align: right;\n    }\n</style>\n<table border=\"1\" class=\"dataframe\">\n  <thead>\n    <tr style=\"text-align: right;\">\n      <th></th>\n      <th>time</th>\n      <th>aoi</th>\n      <th>measurement</th>\n      <th>indicatorValue</th>\n      <th>referenceTime</th>\n      <th>dataProvider</th>\n      <th>eoSensor</th>\n      <th>colorCode</th>\n      <th>inputData</th>\n    </tr>\n  </thead>\n  <tbody>\n    <tr>\n      <th>0</th>\n      <td>2016-04-01T00:00:00.000Z</td>\n      <td>LatLng(40.71268, -74.005812)</td>\n      <td>5.05</td>\n      <td>CO2 Emission New York</td>\n      <td>Invalid DateTime</td>\n      <td>JAXA</td>\n      <td>GOSAT</td>\n      <td>BLUE</td>\n      <td>NaN</td>\n    </tr>\n    <tr>\n      <th>1</th>\n      <td>2017-01-01T00:00:00.000Z</td>\n      <td>LatLng(40.71268, -74.005812)</td>\n      <td>5.60</td>\n      <td>CO2 Emission New York</td>\n      <td>Invalid DateTime</td>\n      <td>JAXA</td>\n      <td>GOSAT</td>\n      <td>BLUE</td>\n      <td>NaN</td>\n    </tr>\n    <tr>\n      <th>2</th>\n      <td>2017-02-01T00:00:00.000Z</td>\n      <td>LatLng(40.71268, -74.005812)</td>\n      <td>6.16</td>\n      <td>CO2 Emission New York</td>\n      <td>Invalid DateTime</td>\n      <td>JAXA</td>\n      <td>GOSAT</td>\n      <td>BLUE</td>\n      <td>NaN</td>\n    </tr>\n    <tr>\n      <th>3</th>\n      <td>2017-03-01T00:00:00.000Z</td>\n      <td>LatLng(40.71268, -74.005812)</td>\n      <td>8.79</td>\n      <td>CO2 Emission New York</td>\n      <td>Invalid DateTime</td>\n      <td>JAXA</td>\n      <td>GOSAT</td>\n      <td>BLUE</td>\n      <td>NaN</td>\n    </tr>\n    <tr>\n      <th>4</th>\n      <td>2017-04-01T00:00:00.000Z</td>\n      <td>LatLng(40.71268, -74.005812)</td>\n      <td>3.18</td>\n      <td>CO2 Emission New York</td>\n      <td>Invalid DateTime</td>\n      <td>JAXA</td>\n      <td>GOSAT</td>\n      <td>BLUE</td>\n      <td>NaN</td>\n    </tr>\n  </tbody>\n</table>\n</div>"
          },
          "metadata": {}
        },
        {
          "output_type": "display_data",
          "data": {
            "text/plain": "                       time                           aoi  measurement  \\\n0  2018-05-07T00:00:00.000Z  LatLng(37.7775, -122.416389)    32.618725   \n1  2018-05-21T00:00:00.000Z  LatLng(37.7775, -122.416389)    36.145203   \n2  2018-06-04T00:00:00.000Z  LatLng(37.7775, -122.416389)    30.362528   \n3  2018-06-18T00:00:00.000Z  LatLng(37.7775, -122.416389)    36.565193   \n4  2018-07-02T00:00:00.000Z  LatLng(37.7775, -122.416389)    36.842640   \n\n               indicatorValue             referenceTime dataProvider eoSensor  \\\n0  NO2 Emission San Francisco  2018-05-07T00:00:00.000Z         EMSS  TROPOMI   \n1  NO2 Emission San Francisco  2018-05-21T00:00:00.000Z         EMSS  TROPOMI   \n2  NO2 Emission San Francisco  2018-06-04T00:00:00.000Z         EMSS  TROPOMI   \n3  NO2 Emission San Francisco  2018-06-18T00:00:00.000Z         EMSS  TROPOMI   \n4  NO2 Emission San Francisco  2018-07-02T00:00:00.000Z         EMSS  TROPOMI   \n\n  colorCode                inputData  \n0         /  Sentinel-5p Level-3 NO2  \n1         /  Sentinel-5p Level-3 NO2  \n2         /  Sentinel-5p Level-3 NO2  \n3         /  Sentinel-5p Level-3 NO2  \n4         /  Sentinel-5p Level-3 NO2  ",
            "text/html": "<div>\n<style scoped>\n    .dataframe tbody tr th:only-of-type {\n        vertical-align: middle;\n    }\n\n    .dataframe tbody tr th {\n        vertical-align: top;\n    }\n\n    .dataframe thead th {\n        text-align: right;\n    }\n</style>\n<table border=\"1\" class=\"dataframe\">\n  <thead>\n    <tr style=\"text-align: right;\">\n      <th></th>\n      <th>time</th>\n      <th>aoi</th>\n      <th>measurement</th>\n      <th>indicatorValue</th>\n      <th>referenceTime</th>\n      <th>dataProvider</th>\n      <th>eoSensor</th>\n      <th>colorCode</th>\n      <th>inputData</th>\n    </tr>\n  </thead>\n  <tbody>\n    <tr>\n      <th>0</th>\n      <td>2018-05-07T00:00:00.000Z</td>\n      <td>LatLng(37.7775, -122.416389)</td>\n      <td>32.618725</td>\n      <td>NO2 Emission San Francisco</td>\n      <td>2018-05-07T00:00:00.000Z</td>\n      <td>EMSS</td>\n      <td>TROPOMI</td>\n      <td>/</td>\n      <td>Sentinel-5p Level-3 NO2</td>\n    </tr>\n    <tr>\n      <th>1</th>\n      <td>2018-05-21T00:00:00.000Z</td>\n      <td>LatLng(37.7775, -122.416389)</td>\n      <td>36.145203</td>\n      <td>NO2 Emission San Francisco</td>\n      <td>2018-05-21T00:00:00.000Z</td>\n      <td>EMSS</td>\n      <td>TROPOMI</td>\n      <td>/</td>\n      <td>Sentinel-5p Level-3 NO2</td>\n    </tr>\n    <tr>\n      <th>2</th>\n      <td>2018-06-04T00:00:00.000Z</td>\n      <td>LatLng(37.7775, -122.416389)</td>\n      <td>30.362528</td>\n      <td>NO2 Emission San Francisco</td>\n      <td>2018-06-04T00:00:00.000Z</td>\n      <td>EMSS</td>\n      <td>TROPOMI</td>\n      <td>/</td>\n      <td>Sentinel-5p Level-3 NO2</td>\n    </tr>\n    <tr>\n      <th>3</th>\n      <td>2018-06-18T00:00:00.000Z</td>\n      <td>LatLng(37.7775, -122.416389)</td>\n      <td>36.565193</td>\n      <td>NO2 Emission San Francisco</td>\n      <td>2018-06-18T00:00:00.000Z</td>\n      <td>EMSS</td>\n      <td>TROPOMI</td>\n      <td>/</td>\n      <td>Sentinel-5p Level-3 NO2</td>\n    </tr>\n    <tr>\n      <th>4</th>\n      <td>2018-07-02T00:00:00.000Z</td>\n      <td>LatLng(37.7775, -122.416389)</td>\n      <td>36.842640</td>\n      <td>NO2 Emission San Francisco</td>\n      <td>2018-07-02T00:00:00.000Z</td>\n      <td>EMSS</td>\n      <td>TROPOMI</td>\n      <td>/</td>\n      <td>Sentinel-5p Level-3 NO2</td>\n    </tr>\n  </tbody>\n</table>\n</div>"
          },
          "metadata": {}
        }
      ]
    },
    {
      "cell_type": "code",
      "metadata": {
        "id": "uMF0q-QWiTo4"
      },
      "source": [
        "#cols = [\"Date\",\"indicatorValue\",\"City\",\"Value\"]\n",
        "resulted_df = pd.DataFrame(columns=[\"Date\",\"indicatorValue\",\"City\",\"Measurement\"])"
      ],
<<<<<<< HEAD
      "execution_count": 5,
=======
      "execution_count": null,
>>>>>>> a85749ce62b35fe268445488bf5d72fc65e1fa86
      "outputs": []
    },
    {
      "cell_type": "code",
      "metadata": {
        "colab": {
          "base_uri": "https://localhost:8080/"
        },
        "id": "kOrjQZOMjNOd",
        "outputId": "76657731-ede1-429c-f096-a5c0f555c86b"
      },
      "source": [
        "import re\n",
        "def return_df(df):\n",
        "  new_df = pd.DataFrame(columns=[\"Date\",\"indicatorValue\",\"City\",\"Measurement\"])\n",
        "\n",
        "  for x in range(0,len(df)):\n",
        "    date = re.search(\"^(.+)T.+\", df['time'][x])\n",
        "    date = date.group(1)\n",
        "\n",
        "    city = re.search(\"^.+ Emission (.+)$\", df['indicatorValue'][x])\n",
        "    city = city.group(1)\n",
        "\n",
        "    indicatorValue = df['indicatorValue'][x]\n",
        "    measurement = df['measurement'][x]\n",
        "\n",
        "    tempdf = pd.DataFrame({\"Date\": [date], 'indicatorValue': [indicatorValue], 'City': [city], 'Measurement': [measurement]})\n",
        "    new_df = new_df.append(tempdf,ignore_index=True)\n",
        "\n",
        "  return new_df\n",
        "\n",
        "for df in list_data:\n",
        "  returned_df = return_df(df)\n",
        "  resulted_df = resulted_df.append(returned_df, ignore_index=True)\n",
        "\n",
        "print(resulted_df)"
      ],
<<<<<<< HEAD
      "execution_count": 6,
=======
      "execution_count": null,
>>>>>>> a85749ce62b35fe268445488bf5d72fc65e1fa86
      "outputs": [
        {
          "output_type": "stream",
          "name": "stdout",
          "text": [
            "           Date              indicatorValue           City  Measurement\n0    2018-05-07        NO2 Emission Beijing        Beijing   194.216020\n1    2018-05-21        NO2 Emission Beijing        Beijing   143.733220\n2    2018-06-04        NO2 Emission Beijing        Beijing   133.346330\n3    2018-06-18        NO2 Emission Beijing        Beijing   130.206850\n4    2018-07-02        NO2 Emission Beijing        Beijing   151.919100\n..          ...                         ...            ...          ...\n270  2021-04-05  NO2 Emission San Francisco  San Francisco    34.274918\n271  2021-04-19  NO2 Emission San Francisco  San Francisco    31.137800\n272  2021-05-03  NO2 Emission San Francisco  San Francisco          NaN\n273  2021-05-17  NO2 Emission San Francisco  San Francisco          NaN\n274  2021-05-31  NO2 Emission San Francisco  San Francisco          NaN\n\n[275 rows x 4 columns]\n"
          ]
        }
      ]
    },
    {
      "cell_type": "code",
      "metadata": {
        "id": "XiHj9suAiTo4",
        "outputId": "f0603be4-089e-4966-ef77-cadd6665262c"
      },
      "source": [
        "display(resulted_df)"
      ],
      "execution_count": 7,
      "outputs": [
        {
          "output_type": "display_data",
          "data": {
            "text/plain": "           Date              indicatorValue           City  Measurement\n0    2018-05-07        NO2 Emission Beijing        Beijing   194.216020\n1    2018-05-21        NO2 Emission Beijing        Beijing   143.733220\n2    2018-06-04        NO2 Emission Beijing        Beijing   133.346330\n3    2018-06-18        NO2 Emission Beijing        Beijing   130.206850\n4    2018-07-02        NO2 Emission Beijing        Beijing   151.919100\n..          ...                         ...            ...          ...\n270  2021-04-05  NO2 Emission San Francisco  San Francisco    34.274918\n271  2021-04-19  NO2 Emission San Francisco  San Francisco    31.137800\n272  2021-05-03  NO2 Emission San Francisco  San Francisco          NaN\n273  2021-05-17  NO2 Emission San Francisco  San Francisco          NaN\n274  2021-05-31  NO2 Emission San Francisco  San Francisco          NaN\n\n[275 rows x 4 columns]",
            "text/html": "<div>\n<style scoped>\n    .dataframe tbody tr th:only-of-type {\n        vertical-align: middle;\n    }\n\n    .dataframe tbody tr th {\n        vertical-align: top;\n    }\n\n    .dataframe thead th {\n        text-align: right;\n    }\n</style>\n<table border=\"1\" class=\"dataframe\">\n  <thead>\n    <tr style=\"text-align: right;\">\n      <th></th>\n      <th>Date</th>\n      <th>indicatorValue</th>\n      <th>City</th>\n      <th>Measurement</th>\n    </tr>\n  </thead>\n  <tbody>\n    <tr>\n      <th>0</th>\n      <td>2018-05-07</td>\n      <td>NO2 Emission Beijing</td>\n      <td>Beijing</td>\n      <td>194.216020</td>\n    </tr>\n    <tr>\n      <th>1</th>\n      <td>2018-05-21</td>\n      <td>NO2 Emission Beijing</td>\n      <td>Beijing</td>\n      <td>143.733220</td>\n    </tr>\n    <tr>\n      <th>2</th>\n      <td>2018-06-04</td>\n      <td>NO2 Emission Beijing</td>\n      <td>Beijing</td>\n      <td>133.346330</td>\n    </tr>\n    <tr>\n      <th>3</th>\n      <td>2018-06-18</td>\n      <td>NO2 Emission Beijing</td>\n      <td>Beijing</td>\n      <td>130.206850</td>\n    </tr>\n    <tr>\n      <th>4</th>\n      <td>2018-07-02</td>\n      <td>NO2 Emission Beijing</td>\n      <td>Beijing</td>\n      <td>151.919100</td>\n    </tr>\n    <tr>\n      <th>...</th>\n      <td>...</td>\n      <td>...</td>\n      <td>...</td>\n      <td>...</td>\n    </tr>\n    <tr>\n      <th>270</th>\n      <td>2021-04-05</td>\n      <td>NO2 Emission San Francisco</td>\n      <td>San Francisco</td>\n      <td>34.274918</td>\n    </tr>\n    <tr>\n      <th>271</th>\n      <td>2021-04-19</td>\n      <td>NO2 Emission San Francisco</td>\n      <td>San Francisco</td>\n      <td>31.137800</td>\n    </tr>\n    <tr>\n      <th>272</th>\n      <td>2021-05-03</td>\n      <td>NO2 Emission San Francisco</td>\n      <td>San Francisco</td>\n      <td>NaN</td>\n    </tr>\n    <tr>\n      <th>273</th>\n      <td>2021-05-17</td>\n      <td>NO2 Emission San Francisco</td>\n      <td>San Francisco</td>\n      <td>NaN</td>\n    </tr>\n    <tr>\n      <th>274</th>\n      <td>2021-05-31</td>\n      <td>NO2 Emission San Francisco</td>\n      <td>San Francisco</td>\n      <td>NaN</td>\n    </tr>\n  </tbody>\n</table>\n<p>275 rows × 4 columns</p>\n</div>"
          },
          "metadata": {}
        }
      ]
    },
    {
      "cell_type": "code",
      "metadata": {
        "id": "8g1ymhxdiTo5",
        "outputId": "18cbb8f5-c6d1-4032-d6e5-fd34a6fb333b"
      },
      "source": [
        "resulted_df.to_csv('indicators.csv')"
      ],
      "execution_count": 8,
      "outputs": []
    },
    {
      "cell_type": "code",
      "metadata": {
        "id": "ENFQiBXViTo5"
      },
      "source": [
        "df = pd.read_csv('https://plotly.github.io/datasets/country_indicators.csv')"
      ],
      "execution_count": 9,
      "outputs": []
    },
    {
      "cell_type": "code",
      "metadata": {
        "id": "TqxGumzwiTo6",
        "outputId": "d558f79f-e35b-41ab-bb53-5961517202b2"
      },
      "source": [
        "display (df)\n",
        "df.to_csv('test.csv')"
      ],
      "execution_count": 10,
      "outputs": [
        {
          "output_type": "display_data",
          "data": {
            "text/plain": "      Country Name                                     Indicator Name  Year  \\\n0       Arab World                Agriculture, value added (% of GDP)  1962   \n1       Arab World             CO2 emissions (metric tons per capita)  1962   \n2       Arab World  Domestic credit provided by financial sector (...  1962   \n3       Arab World        Electric power consumption (kWh per capita)  1962   \n4       Arab World       Energy use (kg of oil equivalent per capita)  1962   \n...            ...                                                ...   ...   \n36955     Zimbabwe                   Industry, value added (% of GDP)  2007   \n36956     Zimbabwe                 Inflation, GDP deflator (annual %)  2007   \n36957     Zimbabwe            Life expectancy at birth, total (years)  2007   \n36958     Zimbabwe  Population density (people per sq. km of land ...  2007   \n36959     Zimbabwe             Services, etc., value added (% of GDP)  2007   \n\n           Value  \n0            NaN  \n1       0.760996  \n2      18.168690  \n3            NaN  \n4            NaN  \n...          ...  \n36955  33.074953  \n36956   0.894887  \n36957  44.177756  \n36958  34.374559  \n36959  45.327139  \n\n[36960 rows x 4 columns]",
            "text/html": "<div>\n<style scoped>\n    .dataframe tbody tr th:only-of-type {\n        vertical-align: middle;\n    }\n\n    .dataframe tbody tr th {\n        vertical-align: top;\n    }\n\n    .dataframe thead th {\n        text-align: right;\n    }\n</style>\n<table border=\"1\" class=\"dataframe\">\n  <thead>\n    <tr style=\"text-align: right;\">\n      <th></th>\n      <th>Country Name</th>\n      <th>Indicator Name</th>\n      <th>Year</th>\n      <th>Value</th>\n    </tr>\n  </thead>\n  <tbody>\n    <tr>\n      <th>0</th>\n      <td>Arab World</td>\n      <td>Agriculture, value added (% of GDP)</td>\n      <td>1962</td>\n      <td>NaN</td>\n    </tr>\n    <tr>\n      <th>1</th>\n      <td>Arab World</td>\n      <td>CO2 emissions (metric tons per capita)</td>\n      <td>1962</td>\n      <td>0.760996</td>\n    </tr>\n    <tr>\n      <th>2</th>\n      <td>Arab World</td>\n      <td>Domestic credit provided by financial sector (...</td>\n      <td>1962</td>\n      <td>18.168690</td>\n    </tr>\n    <tr>\n      <th>3</th>\n      <td>Arab World</td>\n      <td>Electric power consumption (kWh per capita)</td>\n      <td>1962</td>\n      <td>NaN</td>\n    </tr>\n    <tr>\n      <th>4</th>\n      <td>Arab World</td>\n      <td>Energy use (kg of oil equivalent per capita)</td>\n      <td>1962</td>\n      <td>NaN</td>\n    </tr>\n    <tr>\n      <th>...</th>\n      <td>...</td>\n      <td>...</td>\n      <td>...</td>\n      <td>...</td>\n    </tr>\n    <tr>\n      <th>36955</th>\n      <td>Zimbabwe</td>\n      <td>Industry, value added (% of GDP)</td>\n      <td>2007</td>\n      <td>33.074953</td>\n    </tr>\n    <tr>\n      <th>36956</th>\n      <td>Zimbabwe</td>\n      <td>Inflation, GDP deflator (annual %)</td>\n      <td>2007</td>\n      <td>0.894887</td>\n    </tr>\n    <tr>\n      <th>36957</th>\n      <td>Zimbabwe</td>\n      <td>Life expectancy at birth, total (years)</td>\n      <td>2007</td>\n      <td>44.177756</td>\n    </tr>\n    <tr>\n      <th>36958</th>\n      <td>Zimbabwe</td>\n      <td>Population density (people per sq. km of land ...</td>\n      <td>2007</td>\n      <td>34.374559</td>\n    </tr>\n    <tr>\n      <th>36959</th>\n      <td>Zimbabwe</td>\n      <td>Services, etc., value added (% of GDP)</td>\n      <td>2007</td>\n      <td>45.327139</td>\n    </tr>\n  </tbody>\n</table>\n<p>36960 rows × 4 columns</p>\n</div>"
          },
          "metadata": {}
        }
      ]
    },
    {
      "cell_type": "code",
      "execution_count": 11,
      "metadata": {},
      "outputs": [],
      "source": [
        "import dash\n",
        "import dash_core_components as dcc\n",
        "import dash_html_components as html\n",
        "from dash.dependencies import Input, Output\n",
        "import plotly.express as px\n",
        "\n",
        "df0 = px.data.stocks()"
      ]
    },
    {
      "cell_type": "code",
      "execution_count": 12,
      "metadata": {},
      "outputs": [
        {
          "output_type": "display_data",
          "data": {
            "text/plain": "         date      GOOG      AAPL      AMZN        FB      NFLX      MSFT\n0  2018-01-01  1.000000  1.000000  1.000000  1.000000  1.000000  1.000000\n1  2018-01-08  1.018172  1.011943  1.061881  0.959968  1.053526  1.015988\n2  2018-01-15  1.032008  1.019771  1.053240  0.970243  1.049860  1.020524\n3  2018-01-22  1.066783  0.980057  1.140676  1.016858  1.307681  1.066561\n4  2018-01-29  1.008773  0.917143  1.163374  1.018357  1.273537  1.040708",
            "text/html": "<div>\n<style scoped>\n    .dataframe tbody tr th:only-of-type {\n        vertical-align: middle;\n    }\n\n    .dataframe tbody tr th {\n        vertical-align: top;\n    }\n\n    .dataframe thead th {\n        text-align: right;\n    }\n</style>\n<table border=\"1\" class=\"dataframe\">\n  <thead>\n    <tr style=\"text-align: right;\">\n      <th></th>\n      <th>date</th>\n      <th>GOOG</th>\n      <th>AAPL</th>\n      <th>AMZN</th>\n      <th>FB</th>\n      <th>NFLX</th>\n      <th>MSFT</th>\n    </tr>\n  </thead>\n  <tbody>\n    <tr>\n      <th>0</th>\n      <td>2018-01-01</td>\n      <td>1.000000</td>\n      <td>1.000000</td>\n      <td>1.000000</td>\n      <td>1.000000</td>\n      <td>1.000000</td>\n      <td>1.000000</td>\n    </tr>\n    <tr>\n      <th>1</th>\n      <td>2018-01-08</td>\n      <td>1.018172</td>\n      <td>1.011943</td>\n      <td>1.061881</td>\n      <td>0.959968</td>\n      <td>1.053526</td>\n      <td>1.015988</td>\n    </tr>\n    <tr>\n      <th>2</th>\n      <td>2018-01-15</td>\n      <td>1.032008</td>\n      <td>1.019771</td>\n      <td>1.053240</td>\n      <td>0.970243</td>\n      <td>1.049860</td>\n      <td>1.020524</td>\n    </tr>\n    <tr>\n      <th>3</th>\n      <td>2018-01-22</td>\n      <td>1.066783</td>\n      <td>0.980057</td>\n      <td>1.140676</td>\n      <td>1.016858</td>\n      <td>1.307681</td>\n      <td>1.066561</td>\n    </tr>\n    <tr>\n      <th>4</th>\n      <td>2018-01-29</td>\n      <td>1.008773</td>\n      <td>0.917143</td>\n      <td>1.163374</td>\n      <td>1.018357</td>\n      <td>1.273537</td>\n      <td>1.040708</td>\n    </tr>\n  </tbody>\n</table>\n</div>"
          },
          "metadata": {}
        }
      ],
      "source": [
        "display(df0.head())"
      ]
    }
  ]
}